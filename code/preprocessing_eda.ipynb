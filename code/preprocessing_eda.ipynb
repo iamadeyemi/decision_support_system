{
 "cells": [
  {
   "cell_type": "code",
   "execution_count": null,
   "metadata": {
    "vscode": {
     "languageId": "plaintext"
    }
   },
   "outputs": [],
   "source": [
    "import pandas as pd\n",
    "\n",
    "# Load dataset\n",
    "file_path = 'student_performance.csv'\n",
    "df = pd.read_csv(file_path)\n",
    "\n",
    "# Display basic info\n",
    "display(df.head())"
   ]
  },
  {
   "cell_type": "code",
   "execution_count": null,
   "metadata": {
    "vscode": {
     "languageId": "plaintext"
    }
   },
   "outputs": [],
   "source": [
    "# Check for missing values\n",
    "print(df.isnull().sum())"
   ]
  },
  {
   "cell_type": "code",
   "execution_count": null,
   "metadata": {
    "vscode": {
     "languageId": "plaintext"
    }
   },
   "outputs": [],
   "source": [
    "# Convert Distance_from_Home to numerical values\n",
    "distance_mapping = {\"Near\": 1, \"Moderate\": 2, \"Far\": 3}\n",
    "df[\"Distance_from_Home\"] = df[\"Distance_from_Home\"].map(distance_mapping)\n",
    "\n",
    "# Fill missing values for numerical columns with median\n",
    "numerical_cols = [\"Distance_from_Home\"]\n",
    "for col in numerical_cols:\n",
    "    df[col].fillna(df[col].median(), inplace=True)\n",
    "\n",
    "# Fill missing values for categorical columns with mode\n",
    "categorical_cols = [\"Teacher_Quality\", \"Parental_Education_Level\"]\n",
    "for col in categorical_cols:\n",
    "    df[col].fillna(df[col].mode()[0], inplace=True)\n",
    "\n",
    "# Check if all missing values are handled\n",
    "print(df.isnull().sum())\n"
   ]
  },
  {
   "cell_type": "code",
   "execution_count": null,
   "metadata": {
    "vscode": {
     "languageId": "plaintext"
    }
   },
   "outputs": [],
   "source": [
    "import pandas as pd\n",
    "import plotly.express as px\n",
    "\n",
    "# Filter students who scored 70 and above\n",
    "high_scorers = df[df[\"Exam_Score\"] >= 70]\n",
    "\n",
    "# Count of high scorers by gender\n",
    "gender_counts = high_scorers[\"Gender\"].value_counts().reset_index()\n",
    "gender_counts.columns = [\"Gender\", \"Count\"]\n",
    "\n",
    "# Create a simple bar chart\n",
    "fig = px.bar(gender_counts, x=\"Gender\", y=\"Count\", color=\"Gender\",\n",
    "             title=\"📊 Number of High Scorers (Exam Score ≥ 70) by Gender\",\n",
    "             labels={\"Count\": \"Number of Students\", \"Gender\": \"Student Gender\"},\n",
    "             text=\"Count\",\n",
    "             template=\"plotly\")\n",
    "\n",
    "# Update layout for simplicity\n",
    "fig.update_traces(textposition=\"outside\", marker=dict(line=dict(width=1, color=\"black\")))\n",
    "fig.update_layout(title_font_size=18, title_x=0.5, xaxis_title=\"Gender\", yaxis_title=\"Count\")\n",
    "\n",
    "# Show the plot\n",
    "fig.show()"
   ]
  },
  {
   "cell_type": "code",
   "execution_count": null,
   "metadata": {
    "vscode": {
     "languageId": "plaintext"
    }
   },
   "outputs": [],
   "source": [
    "import pandas as pd\n",
    "import plotly.express as px\n",
    "\n",
    "\n",
    "# Filter students who scored 70 and above\n",
    "high_scorers = df[df[\"Exam_Score\"] >= 70]\n",
    "\n",
    "# Count of high scorers by parental education level\n",
    "education_counts = high_scorers[\"Parental_Education_Level\"].value_counts().reset_index()\n",
    "education_counts.columns = [\"Parental_Education_Level\", \"Count\"]\n",
    "\n",
    "# Create a simple bar chart\n",
    "fig = px.bar(education_counts, x=\"Parental_Education_Level\", y=\"Count\", color=\"Parental_Education_Level\",\n",
    "             title=\"📊 Influence of Parental Education on High Exam Scores (≥ 70)\",\n",
    "             labels={\"Count\": \"Number of High Scoring Students\", \"Parental_Education_Level\": \"Parental Education\"},\n",
    "             text=\"Count\",\n",
    "             template=\"plotly\")\n",
    "\n",
    "# Update layout for simplicity\n",
    "fig.update_traces(textposition=\"outside\", marker=dict(line=dict(width=1, color=\"black\")))\n",
    "fig.update_layout(title_font_size=18, title_x=0.5, xaxis_title=\"Parental Education Level\", yaxis_title=\"Count\")\n",
    "\n",
    "# Show the plot\n",
    "fig.show()\n"
   ]
  },
  {
   "cell_type": "code",
   "execution_count": null,
   "metadata": {
    "vscode": {
     "languageId": "plaintext"
    }
   },
   "outputs": [],
   "source": [
    "import pandas as pd\n",
    "import plotly.express as px\n",
    "\n",
    "# Normalize exam scores as a percentage of the highest exam score\n",
    "df[\"Exam_Score_Percentage\"] = (df[\"Exam_Score\"] / df[\"Exam_Score\"].max()) * 100\n",
    "\n",
    "# Calculate the average percentage exam score by school type\n",
    "school_scores = df.groupby(\"School_Type\")[\"Exam_Score_Percentage\"].mean().reset_index()\n",
    "\n",
    "# Create a bar chart\n",
    "fig = px.bar(school_scores, x=\"School_Type\", y=\"Exam_Score_Percentage\", color=\"School_Type\",\n",
    "             title=\"📊 Effect of School Type on Exam Scores (Percentage)\",\n",
    "             labels={\"Exam_Score_Percentage\": \"Average Exam Score (%)\", \"School_Type\": \"Type of School\"},\n",
    "             text=\"Exam_Score_Percentage\",\n",
    "             template=\"plotly\")\n",
    "\n",
    "# Format percentage values\n",
    "fig.update_traces(texttemplate=\"%{text:.1f}%\", textposition=\"outside\", marker=dict(line=dict(width=1, color=\"black\")))\n",
    "\n",
    "# Update layout\n",
    "fig.update_layout(title_font_size=18, title_x=0.5, xaxis_title=\"School Type\", yaxis_title=\"Avg Exam Score (%)\")\n",
    "\n",
    "# Show the plot\n",
    "fig.show()"
   ]
  },
  {
   "cell_type": "code",
   "execution_count": null,
   "metadata": {
    "vscode": {
     "languageId": "plaintext"
    }
   },
   "outputs": [],
   "source": [
    "import pandas as pd\n",
    "import plotly.express as px\n",
    "\n",
    "# Normalize exam scores as a percentage of the highest exam score\n",
    "df[\"Exam_Score_Percentage\"] = (df[\"Exam_Score\"] / df[\"Exam_Score\"].max()) * 100\n",
    "\n",
    "# Calculate the average percentage exam score by family income level\n",
    "income_scores = df.groupby(\"Family_Income\")[\"Exam_Score_Percentage\"].mean().reset_index()\n",
    "\n",
    "# Create a bar chart\n",
    "fig = px.bar(income_scores, x=\"Family_Income\", y=\"Exam_Score_Percentage\", color=\"Family_Income\",\n",
    "             title=\"💰 Relationship Between Family Income and Exam Scores (Percentage)\",\n",
    "             labels={\"Family_Income\": \"Family Income Level\", \"Exam_Score_Percentage\": \"Average Exam Score (%)\"},\n",
    "             text=\"Exam_Score_Percentage\",\n",
    "             template=\"plotly\")\n",
    "\n",
    "# Format percentage values\n",
    "fig.update_traces(texttemplate=\"%{text:.1f}%\", textposition=\"outside\", marker=dict(line=dict(width=1, color=\"black\")))\n",
    "\n",
    "# Update layout\n",
    "fig.update_layout(title_font_size=18, title_x=0.5, xaxis_title=\"Family Income Level\", yaxis_title=\"Avg Exam Score (%)\")\n",
    "\n",
    "# Show the plot\n",
    "fig.show()"
   ]
  },
  {
   "cell_type": "code",
   "execution_count": null,
   "metadata": {
    "vscode": {
     "languageId": "plaintext"
    }
   },
   "outputs": [],
   "source": [
    "import pandas as pd\n",
    "import plotly.express as px\n",
    "\n",
    "# Normalize exam scores as a percentage of the highest exam score\n",
    "df[\"Exam_Score_Percentage\"] = (df[\"Exam_Score\"] / df[\"Exam_Score\"].max()) * 100\n",
    "\n",
    "# Calculate the average percentage exam score by extracurricular activity participation\n",
    "activity_scores = df.groupby(\"Extracurricular_Activities\")[\"Exam_Score_Percentage\"].mean().reset_index()\n",
    "\n",
    "# Create a bar chart\n",
    "fig = px.bar(activity_scores, x=\"Extracurricular_Activities\", y=\"Exam_Score_Percentage\", color=\"Extracurricular_Activities\",\n",
    "             title=\"🎭 Impact of Extracurricular Activities on Exam Scores (Percentage)\",\n",
    "             labels={\"Extracurricular_Activities\": \"Participation in Activities\", \"Exam_Score_Percentage\": \"Average Exam Score (%)\"},\n",
    "             text=\"Exam_Score_Percentage\",\n",
    "             template=\"plotly\")\n",
    "\n",
    "# Format percentage values\n",
    "fig.update_traces(texttemplate=\"%{text:.1f}%\", textposition=\"outside\", marker=dict(line=dict(width=1, color=\"black\")))\n",
    "\n",
    "# Update layout\n",
    "fig.update_layout(title_font_size=18, title_x=0.5, xaxis_title=\"Extracurricular Activities\", yaxis_title=\"Avg Exam Score (%)\")\n",
    "\n",
    "# Show the plot\n",
    "fig.show()"
   ]
  },
  {
   "cell_type": "code",
   "execution_count": null,
   "metadata": {
    "vscode": {
     "languageId": "plaintext"
    }
   },
   "outputs": [],
   "source": [
    "# Import necessary libraries\n",
    "import pandas as pd\n",
    "import numpy as np\n",
    "import plotly.express as px\n",
    "import plotly.graph_objects as go\n",
    "\n",
    "\n",
    "# Interactive Scatter Plot: Hours_Studied vs Exam_Score\n",
    "fig1 = px.scatter(\n",
    "    df,\n",
    "    x=\"Hours_Studied\",\n",
    "    y=\"Exam_Score\",\n",
    "    title=\"Impact of Hours Studied on Exam Score\",\n",
    "    labels={\"Hours_Studied\": \"Hours Studied\", \"Exam_Score\": \"Exam Score\"},\n",
    "    trendline=\"ols\",  # Add a trendline for linear relationship\n",
    "    hover_data=[\"Sleep_Hours\", \"Previous_Scores\"]  # Add additional hover info\n",
    ")\n",
    "fig1.show()\n",
    "\n",
    "# Interactive Scatter Plot: Sleep_Hours vs Exam_Score\n",
    "fig2 = px.scatter(\n",
    "    df,\n",
    "    x=\"Sleep_Hours\",\n",
    "    y=\"Exam_Score\",\n",
    "    title=\"Impact of Sleep Hours on Exam Score\",\n",
    "    labels={\"Sleep_Hours\": \"Sleep Hours\", \"Exam_Score\": \"Exam Score\"},\n",
    "    trendline=\"ols\",  # Add a trendline for linear relationship\n",
    "    hover_data=[\"Hours_Studied\", \"Previous_Scores\"]  # Add additional hover info\n",
    ")\n",
    "fig2.show()\n",
    "\n",
    "# Interactive Scatter Plot: Previous_Scores vs Exam_Score\n",
    "fig3 = px.scatter(\n",
    "    df,\n",
    "    x=\"Previous_Scores\",\n",
    "    y=\"Exam_Score\",\n",
    "    title=\"Impact of Previous Scores on Exam Score\",\n",
    "    labels={\"Previous_Scores\": \"Previous Scores\", \"Exam_Score\": \"Exam Score\"},\n",
    "    trendline=\"ols\",  # Add a trendline for linear relationship\n",
    "    hover_data=[\"Hours_Studied\", \"Sleep_Hours\"]  # Add additional hover info\n",
    ")\n",
    "fig3.show()\n",
    "\n",
    "# Interactive 3D Scatter Plot: Hours_Studied, Sleep_Hours, Previous_Scores vs Exam_Score\n",
    "fig4 = px.scatter_3d(\n",
    "    df,\n",
    "    x=\"Hours_Studied\",\n",
    "    y=\"Sleep_Hours\",\n",
    "    z=\"Previous_Scores\",\n",
    "    color=\"Exam_Score\",\n",
    "    title=\"3D Visualization of Study Habits and Exam Scores\",\n",
    "    labels={\n",
    "        \"Hours_Studied\": \"Hours Studied\",\n",
    "        \"Sleep_Hours\": \"Sleep Hours\",\n",
    "        \"Previous_Scores\": \"Previous Scores\",\n",
    "        \"Exam_Score\": \"Exam Score\"\n",
    "    },\n",
    "    hover_name=\"Exam_Score\"\n",
    ")\n",
    "fig4.show()\n",
    "\n",
    "# Interactive Parallel Coordinates Plot\n",
    "fig5 = px.parallel_coordinates(\n",
    "    df,\n",
    "    color=\"Exam_Score\",\n",
    "    dimensions=[\"Hours_Studied\", \"Sleep_Hours\", \"Previous_Scores\", \"Exam_Score\"],\n",
    "    title=\"Parallel Coordinates Plot of Study Habits and Exam Scores\",\n",
    "    labels={\n",
    "        \"Hours_Studied\": \"Hours Studied\",\n",
    "        \"Sleep_Hours\": \"Sleep Hours\",\n",
    "        \"Previous_Scores\": \"Previous Scores\",\n",
    "        \"Exam_Score\": \"Exam Score\"\n",
    "    }\n",
    ")\n",
    "fig5.show()"
   ]
  },
  {
   "cell_type": "code",
   "execution_count": null,
   "metadata": {
    "vscode": {
     "languageId": "plaintext"
    }
   },
   "outputs": [],
   "source": []
  }
 ],
 "metadata": {
  "language_info": {
   "name": "python"
  }
 },
 "nbformat": 4,
 "nbformat_minor": 2
}
