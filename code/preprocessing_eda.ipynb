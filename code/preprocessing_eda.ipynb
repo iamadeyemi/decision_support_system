{
 "cells": [
  {
   "cell_type": "code",
   "execution_count": null,
   "metadata": {
    "vscode": {
     "languageId": "plaintext"
    }
   },
   "outputs": [],
   "source": [
    "import pandas as pd\n",
    "\n",
    "# Load dataset\n",
    "file_path = 'student_performance.csv'\n",
    "df = pd.read_csv(file_path)\n",
    "\n",
    "# Display basic info\n",
    "display(df.head())"
   ]
  },
  {
   "cell_type": "code",
   "execution_count": null,
   "metadata": {
    "vscode": {
     "languageId": "plaintext"
    }
   },
   "outputs": [],
   "source": [
    "# Check for missing values\n",
    "print(df.isnull().sum())"
   ]
  },
  {
   "cell_type": "code",
   "execution_count": null,
   "metadata": {
    "vscode": {
     "languageId": "plaintext"
    }
   },
   "outputs": [],
   "source": [
    "# Convert Distance_from_Home to numerical values\n",
    "distance_mapping = {\"Near\": 1, \"Moderate\": 2, \"Far\": 3}\n",
    "df[\"Distance_from_Home\"] = df[\"Distance_from_Home\"].map(distance_mapping)\n",
    "\n",
    "# Fill missing values for numerical columns with median\n",
    "numerical_cols = [\"Distance_from_Home\"]\n",
    "for col in numerical_cols:\n",
    "    df[col].fillna(df[col].median(), inplace=True)\n",
    "\n",
    "# Fill missing values for categorical columns with mode\n",
    "categorical_cols = [\"Teacher_Quality\", \"Parental_Education_Level\"]\n",
    "for col in categorical_cols:\n",
    "    df[col].fillna(df[col].mode()[0], inplace=True)\n",
    "\n",
    "# Check if all missing values are handled\n",
    "print(df.isnull().sum())\n"
   ]
  },
  {
   "cell_type": "code",
   "execution_count": null,
   "metadata": {
    "vscode": {
     "languageId": "plaintext"
    }
   },
   "outputs": [],
   "source": [
    "import plotly.express as px\n",
    "import numpy as np\n",
    "import plotly.graph_objects as go\n",
    "\n",
    "# Scatter plot\n",
    "fig = px.scatter(\n",
    "    df, \n",
    "    x=\"Hours_Studied\", \n",
    "    y=\"Exam_Score\", \n",
    "    color=\"Exam_Score\", \n",
    "    color_continuous_scale=\"Viridis\",\n",
    "    title=\"Relationship Between Hours Studied and Exam Score\",\n",
    "    labels={\"Hours_Studied\": \"Hours Studied\", \"Exam_Score\": \"\"},  # Remove legend title\n",
    "    hover_data=[\"Hours_Studied\", \"Exam_Score\"]\n",
    ")\n",
    "\n",
    "# Add best-fit regression line\n",
    "m, b = np.polyfit(df[\"Hours_Studied\"], df[\"Exam_Score\"], 1)  # Linear fit\n",
    "fig.add_trace(go.Scatter(\n",
    "    x=df[\"Hours_Studied\"],\n",
    "    y=m * df[\"Hours_Studied\"] + b,\n",
    "    mode=\"lines\",\n",
    "    name=\"Regression Line\",\n",
    "    line=dict(color=\"red\", width=2, dash=\"dash\")\n",
    "))\n",
    "\n",
    "# Customize layout\n",
    "fig.update_layout(\n",
    "    font=dict(size=14, family=\"Arial\"),\n",
    "    plot_bgcolor=\"rgba(240, 240, 240, 0.8)\",\n",
    "    title_x=0.5,\n",
    "    title_font_size=20,\n",
    "    xaxis=dict(showgrid=True, zeroline=False, linecolor=\"black\"),\n",
    "    yaxis=dict(showgrid=True, zeroline=False, linecolor=\"black\"),\n",
    "    hovermode=\"x unified\",\n",
    "    coloraxis_colorbar=dict(title=\"..\")\n",
    ")\n",
    "\n",
    "# Show plot\n",
    "fig.show()"
   ]
  },
  {
   "cell_type": "code",
   "execution_count": null,
   "metadata": {
    "vscode": {
     "languageId": "plaintext"
    }
   },
   "outputs": [],
   "source": []
  }
 ],
 "metadata": {
  "language_info": {
   "name": "python"
  }
 },
 "nbformat": 4,
 "nbformat_minor": 2
}
