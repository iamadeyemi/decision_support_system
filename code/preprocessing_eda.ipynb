{
 "cells": [
  {
   "cell_type": "code",
   "execution_count": null,
   "metadata": {
    "vscode": {
     "languageId": "plaintext"
    }
   },
   "outputs": [],
   "source": [
    "import pandas as pd\n",
    "\n",
    "# Load dataset\n",
    "file_path = 'student_performance.csv'\n",
    "df = pd.read_csv(file_path)\n",
    "\n",
    "# Display basic info\n",
    "display(df.head())"
   ]
  },
  {
   "cell_type": "code",
   "execution_count": null,
   "metadata": {
    "vscode": {
     "languageId": "plaintext"
    }
   },
   "outputs": [],
   "source": [
    "# Check for missing values\n",
    "print(df.isnull().sum())"
   ]
  },
  {
   "cell_type": "code",
   "execution_count": null,
   "metadata": {
    "vscode": {
     "languageId": "plaintext"
    }
   },
   "outputs": [],
   "source": [
    "# Convert Distance_from_Home to numerical values\n",
    "distance_mapping = {\"Near\": 1, \"Moderate\": 2, \"Far\": 3}\n",
    "df[\"Distance_from_Home\"] = df[\"Distance_from_Home\"].map(distance_mapping)\n",
    "\n",
    "# Fill missing values for numerical columns with median\n",
    "numerical_cols = [\"Distance_from_Home\"]\n",
    "for col in numerical_cols:\n",
    "    df[col].fillna(df[col].median(), inplace=True)\n",
    "\n",
    "# Fill missing values for categorical columns with mode\n",
    "categorical_cols = [\"Teacher_Quality\", \"Parental_Education_Level\"]\n",
    "for col in categorical_cols:\n",
    "    df[col].fillna(df[col].mode()[0], inplace=True)\n",
    "\n",
    "# Check if all missing values are handled\n",
    "print(df.isnull().sum())\n"
   ]
  },
  {
   "cell_type": "code",
   "execution_count": null,
   "metadata": {
    "vscode": {
     "languageId": "plaintext"
    }
   },
   "outputs": [],
   "source": [
    "import plotly.express as px\n",
    "import numpy as np\n",
    "import plotly.graph_objects as go\n",
    "\n",
    "# Scatter plot\n",
    "fig = px.scatter(\n",
    "    df, \n",
    "    x=\"Hours_Studied\", \n",
    "    y=\"Exam_Score\", \n",
    "    color=\"Exam_Score\", \n",
    "    color_continuous_scale=\"Viridis\",\n",
    "    title=\"Relationship Between Hours Studied and Exam Score\",\n",
    "    labels={\"Hours_Studied\": \"Hours Studied\", \"Exam_Score\": \"\"},  # Remove legend title\n",
    "    hover_data=[\"Hours_Studied\", \"Exam_Score\"]\n",
    ")\n",
    "\n",
    "# Add best-fit regression line\n",
    "m, b = np.polyfit(df[\"Hours_Studied\"], df[\"Exam_Score\"], 1)  # Linear fit\n",
    "fig.add_trace(go.Scatter(\n",
    "    x=df[\"Hours_Studied\"],\n",
    "    y=m * df[\"Hours_Studied\"] + b,\n",
    "    mode=\"lines\",\n",
    "    name=\"Regression Line\",\n",
    "    line=dict(color=\"red\", width=2, dash=\"dash\")\n",
    "))\n",
    "\n",
    "# Customize layout\n",
    "fig.update_layout(\n",
    "    font=dict(size=14, family=\"Arial\"),\n",
    "    plot_bgcolor=\"rgba(240, 240, 240, 0.8)\",\n",
    "    title_x=0.5,\n",
    "    title_font_size=20,\n",
    "    xaxis=dict(showgrid=True, zeroline=False, linecolor=\"black\"),\n",
    "    yaxis=dict(showgrid=True, zeroline=False, linecolor=\"black\"),\n",
    "    hovermode=\"x unified\",\n",
    "    coloraxis_colorbar=dict(title=\"..\")\n",
    ")\n",
    "\n",
    "# Show plot\n",
    "fig.show()"
   ]
  },
  {
   "cell_type": "code",
   "execution_count": null,
   "metadata": {
    "vscode": {
     "languageId": "plaintext"
    }
   },
   "outputs": [],
   "source": [
    "import pandas as pd\n",
    "import plotly.graph_objects as go\n",
    "import plotly.express as px\n",
    "import numpy as np\n",
    "from scipy import stats\n",
    "from sklearn.linear_model import LinearRegression\n",
    "\n",
    "# Load dataset\n",
    "file_path = 'student_performance.csv'\n",
    "df = pd.read_csv(file_path)\n",
    "\n",
    "# Perform Linear Regression\n",
    "X = df[[\"Hours_Studied\"]]  # Independent variable\n",
    "y = df[\"Exam_Score\"]  # Dependent variable\n",
    "model = LinearRegression()\n",
    "model.fit(X, y)\n",
    "\n",
    "# Get Regression Line Values\n",
    "slope = model.coef_[0]  # Slope\n",
    "intercept = model.intercept_  # Intercept\n",
    "r_squared = model.score(X, y)  # R² value\n",
    "df[\"Predicted_Score\"] = model.predict(X)\n",
    "\n",
    "# Compute Pearson correlation coefficient\n",
    "correlation_coefficient, p_value = stats.pearsonr(df[\"Hours_Studied\"], df[\"Exam_Score\"])\n",
    "\n",
    "# Display correlation analysis results\n",
    "print(\"🔍 **Correlation Analysis Between Hours Studied & Exam Score**\")\n",
    "print(f\"✅ **Pearson Correlation Coefficient (r):** {correlation_coefficient:.3f}\")\n",
    "print(f\"📊 **P-value:** {p_value:.5f}\")\n",
    "\n",
    "# Interpretation of correlation strength\n",
    "if abs(correlation_coefficient) >= 0.7:\n",
    "    strength = \"strong\"\n",
    "elif abs(correlation_coefficient) >= 0.4:\n",
    "    strength = \"moderate\"\n",
    "else:\n",
    "    strength = \"weak\"\n",
    "\n",
    "if correlation_coefficient > 0:\n",
    "    print(f\"🔹 There is a **{strength} positive correlation** between Hours Studied and Exam Score.\")\n",
    "    print(\"📈 This suggests that as students study more, their exam scores tend to improve.\")\n",
    "elif correlation_coefficient < 0:\n",
    "    print(f\"🔹 There is a **{strength} negative correlation** between Hours Studied and Exam Score.\")\n",
    "    print(\"📉 This unusual finding suggests that more study hours may not always lead to better performance.\")\n",
    "else:\n",
    "    print(\"❌ No significant correlation found between Hours Studied and Exam Score.\")\n",
    "\n",
    "# Create the Scatter Plot\n",
    "fig = go.Figure()\n",
    "\n",
    "# Scatter plot of actual data points\n",
    "fig.add_trace(go.Scatter(\n",
    "    x=df[\"Hours_Studied\"],\n",
    "    y=df[\"Exam_Score\"],\n",
    "    mode=\"markers\",\n",
    "    name=\"Actual Scores\",\n",
    "    marker=dict(size=8, color=df[\"Exam_Score\"], colorscale=\"Viridis\", showscale=False)\n",
    "))\n",
    "\n",
    "# Add regression line\n",
    "fig.add_trace(go.Scatter(\n",
    "    x=df[\"Hours_Studied\"],\n",
    "    y=slope * df[\"Hours_Studied\"] + intercept,\n",
    "    mode=\"lines\",\n",
    "    line=dict(color=\"red\", width=2, dash=\"dash\"),\n",
    "    name=\"Regression Line\"\n",
    "))\n",
    "\n",
    "# Add regression analysis text to the plot\n",
    "fig.add_annotation(\n",
    "    x=max(df[\"Hours_Studied\"]),\n",
    "    y=min(df[\"Exam_Score\"]),\n",
    "    text=f\"Regression Line: y = {slope:.2f}x + {intercept:.2f}<br>R² = {r_squared:.2f}\",\n",
    "    showarrow=False,\n",
    "    font=dict(size=12, color=\"black\"),\n",
    "    align=\"left\",\n",
    "    xanchor=\"right\",\n",
    "    yanchor=\"bottom\",\n",
    "    bgcolor=\"white\",\n",
    "    bordercolor=\"black\",\n",
    "    borderwidth=1\n",
    ")\n",
    "\n",
    "# Update layout for better readability\n",
    "fig.update_layout(\n",
    "    title=\"📊 Relationship Between Hours Studied and Exam Score\",\n",
    "    xaxis_title=\"Hours Studied\",\n",
    "    yaxis_title=\"Exam Score\",\n",
    "    template=\"plotly_white\",\n",
    "    width=800,\n",
    "    height=500\n",
    ")\n",
    "\n",
    "# Show the figure\n",
    "fig.show()"
   ]
  },
  {
   "cell_type": "code",
   "execution_count": null,
   "metadata": {
    "vscode": {
     "languageId": "plaintext"
    }
   },
   "outputs": [],
   "source": []
  }
 ],
 "metadata": {
  "language_info": {
   "name": "python"
  }
 },
 "nbformat": 4,
 "nbformat_minor": 2
}
